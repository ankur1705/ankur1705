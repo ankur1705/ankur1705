{
 "cells": [
  {
   "cell_type": "markdown",
   "id": "d9980b62",
   "metadata": {},
   "source": [
    "# Data Science Tools and Ecosystem"
   ]
  },
  {
   "cell_type": "markdown",
   "id": "d85a77ed",
   "metadata": {},
   "source": [
    "## In this notebook, Data Science Tools and Ecosystem are summarized."
   ]
  },
  {
   "cell_type": "markdown",
   "id": "14ea1ad5",
   "metadata": {},
   "source": [
    "### 1) Some of the popular languages that Data Scientists use are:\n",
    "* Python\n",
    "* R\n",
    "* Scala\n",
    "* Julia"
   ]
  },
  {
   "cell_type": "markdown",
   "id": "85d893cc",
   "metadata": {},
   "source": [
    "### 2) Some of the commonly used libraries used by Data Scientists include:\n",
    "* **Scientific Computing libraries:** \n",
    "    *Pandas,numpy*\n",
    "* **Data Visualization Libraries:** *MatplotLib, Seaborn*\n",
    "* **Machine Learning and Deep Learning Libraries:** *Scikit, Keras, Tensor flow*"
   ]
  },
  {
   "cell_type": "markdown",
   "id": "c57941f1",
   "metadata": {},
   "source": [
    "### 3) Data Science Tools\n",
    "| Data Science Tools|\n",
    "|----------|\n",
    "| Jupyter Notebook |\n",
    "| Jupyter lite |\n",
    "| Google Colab |"
   ]
  },
  {
   "cell_type": "markdown",
   "id": "5b2384b1",
   "metadata": {},
   "source": [
    "### 4) Below are a few examples of evaluating arithmetic expressions in Python.\n"
   ]
  },
  {
   "cell_type": "code",
   "execution_count": 3,
   "id": "da49809d",
   "metadata": {},
   "outputs": [
    {
     "data": {
      "text/plain": [
       "17"
      ]
     },
     "execution_count": 3,
     "metadata": {},
     "output_type": "execute_result"
    }
   ],
   "source": [
    "#This a simple arithmetic expression to mutiply then add integers\n",
    "(3*4)+5"
   ]
  },
  {
   "cell_type": "code",
   "execution_count": 2,
   "id": "fbf391c4",
   "metadata": {},
   "outputs": [
    {
     "data": {
      "text/plain": [
       "3.3333333333333335"
      ]
     },
     "execution_count": 2,
     "metadata": {},
     "output_type": "execute_result"
    }
   ],
   "source": [
    "#This will convert 200 minutes to hours by diving by 60\n",
    "200/60"
   ]
  },
  {
   "cell_type": "markdown",
   "id": "1d6e854a",
   "metadata": {},
   "source": [
    "### 5) Objectives\n",
    "* List popular languages for Data Science: *Python,R,Java,Scala,SQL*\n",
    "* Jupyter Notebooks are used in Data Science for recording experiments and projects\n",
    "* Git & Github are used for data science project repositories for version control\n",
    "* AWS and IBMWatson are the developed environments for data science"
   ]
  },
  {
   "cell_type": "markdown",
   "id": "87ba725b",
   "metadata": {},
   "source": [
    "## Author\n",
    "Ankur Agrawal"
   ]
  },
  {
   "cell_type": "code",
   "execution_count": null,
   "id": "f985eabf",
   "metadata": {},
   "outputs": [],
   "source": []
  }
 ],
 "metadata": {
  "kernelspec": {
   "display_name": "Python 3 (ipykernel)",
   "language": "python",
   "name": "python3"
  },
  "language_info": {
   "codemirror_mode": {
    "name": "ipython",
    "version": 3
   },
   "file_extension": ".py",
   "mimetype": "text/x-python",
   "name": "python",
   "nbconvert_exporter": "python",
   "pygments_lexer": "ipython3",
   "version": "3.9.12"
  }
 },
 "nbformat": 4,
 "nbformat_minor": 5
}
