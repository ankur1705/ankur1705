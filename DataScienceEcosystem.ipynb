{
 "cells": [
  {
   "cell_type": "markdown",
   "id": "6d70f9d9",
   "metadata": {},
   "source": [
    "# 2) Title: Data Science Tools and Ecosystem"
   ]
  },
  {
   "cell_type": "markdown",
   "id": "e973eebe",
   "metadata": {},
   "source": [
    "## 3) In this notebook, Data Science Tools and Ecosystem are summarized."
   ]
  },
  {
   "cell_type": "markdown",
   "id": "6271db7c",
   "metadata": {},
   "source": [
    "### 4) Some of the popular languages that Data Scientists use are:\n",
    "* Python\n",
    "* R\n",
    "* Scala\n",
    "* Julia"
   ]
  },
  {
   "cell_type": "markdown",
   "id": "457339bf",
   "metadata": {},
   "source": [
    "### 5) Some of the commonly used libraries used by Data Scientists include:\n",
    "* **Scientific Computing libraries:** \n",
    "    *Pandas,numpy*\n",
    "* **Data Visualization Libraries:** *MatplotLib, Seaborn*\n",
    "* **Machine Learning and Deep Learning Libraries:** *Scikit, Keras, Tensor flow*"
   ]
  },
  {
   "cell_type": "markdown",
   "id": "fbde3e95",
   "metadata": {},
   "source": [
    "### 6) Data Science Tools\n",
    "| Data Science Tools|\n",
    "|----------|\n",
    "| Jupyter Notebook |\n",
    "| Jupyter lite |\n",
    "| Google Colab |"
   ]
  },
  {
   "cell_type": "markdown",
   "id": "03082c2f",
   "metadata": {},
   "source": [
    "### 7) Below are a few examples of evaluating arithmetic expressions in Python.\n"
   ]
  },
  {
   "cell_type": "code",
   "execution_count": 1,
   "id": "0f9f1839",
   "metadata": {},
   "outputs": [
    {
     "data": {
      "text/plain": [
       "17"
      ]
     },
     "execution_count": 1,
     "metadata": {},
     "output_type": "execute_result"
    }
   ],
   "source": [
    "# 8) This a simple arithmetic expression to mutiply then add integers\n",
    "(3*4)+5"
   ]
  },
  {
   "cell_type": "code",
   "execution_count": 2,
   "id": "aaea2bcc",
   "metadata": {},
   "outputs": [
    {
     "data": {
      "text/plain": [
       "3.3333333333333335"
      ]
     },
     "execution_count": 2,
     "metadata": {},
     "output_type": "execute_result"
    }
   ],
   "source": [
    "# 9) This will convert 200 minutes to hours by diving by 60\n",
    "200/60"
   ]
  },
  {
   "cell_type": "markdown",
   "id": "f12ecb63",
   "metadata": {},
   "source": [
    "### 10) Objectives\n",
    "* List popular languages for Data Science: *Python,R,Java,Scala,SQL*\n",
    "* Jupyter Notebooks are used in Data Science for recording experiments and projects\n",
    "* Git & Github are used for data science project repositories for version control\n",
    "* AWS and IBMWatson are the developed environments for data science"
   ]
  },
  {
   "cell_type": "markdown",
   "id": "c6f15efc",
   "metadata": {},
   "source": [
    "## 11) Author\n",
    "Ankur Agrawal"
   ]
  },
  {
   "cell_type": "code",
   "execution_count": null,
   "id": "da3e1e50",
   "metadata": {},
   "outputs": [],
   "source": []
  }
 ],
 "metadata": {
  "kernelspec": {
   "display_name": "Python 3 (ipykernel)",
   "language": "python",
   "name": "python3"
  },
  "language_info": {
   "codemirror_mode": {
    "name": "ipython",
    "version": 3
   },
   "file_extension": ".py",
   "mimetype": "text/x-python",
   "name": "python",
   "nbconvert_exporter": "python",
   "pygments_lexer": "ipython3",
   "version": "3.9.12"
  }
 },
 "nbformat": 4,
 "nbformat_minor": 5
}
